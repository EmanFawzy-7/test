{
  "nbformat": 4,
  "nbformat_minor": 0,
  "metadata": {
    "colab": {
      "name": "Flask HTML.ipynb",
      "provenance": [],
      "authorship_tag": "ABX9TyMnXw5c/AKyVMnVPw2t6ppL",
      "include_colab_link": true
    },
    "kernelspec": {
      "name": "python3",
      "display_name": "Python 3"
    },
    "language_info": {
      "name": "python"
    }
  },
  "cells": [
    {
      "cell_type": "markdown",
      "metadata": {
        "id": "view-in-github",
        "colab_type": "text"
      },
      "source": [
        "<a href=\"https://colab.research.google.com/github/EmanFawzy-7/test/blob/main/Flask_HTML.ipynb\" target=\"_parent\"><img src=\"https://colab.research.google.com/assets/colab-badge.svg\" alt=\"Open In Colab\"/></a>"
      ]
    },
    {
      "cell_type": "code",
      "metadata": {
        "colab": {
          "base_uri": "https://localhost:8080/"
        },
        "id": "tHbT8n5zmYE2",
        "outputId": "e77f0672-bb1a-4960-92d3-f218d8d0ee30"
      },
      "source": [
        "!pip install flask\n",
        "!pip install --upgrade gevent"
      ],
      "execution_count": 1,
      "outputs": [
        {
          "output_type": "stream",
          "name": "stdout",
          "text": [
            "Requirement already satisfied: flask in /usr/local/lib/python3.7/dist-packages (1.1.4)\n",
            "Requirement already satisfied: Werkzeug<2.0,>=0.15 in /usr/local/lib/python3.7/dist-packages (from flask) (1.0.1)\n",
            "Requirement already satisfied: click<8.0,>=5.1 in /usr/local/lib/python3.7/dist-packages (from flask) (7.1.2)\n",
            "Requirement already satisfied: Jinja2<3.0,>=2.10.1 in /usr/local/lib/python3.7/dist-packages (from flask) (2.11.3)\n",
            "Requirement already satisfied: itsdangerous<2.0,>=0.24 in /usr/local/lib/python3.7/dist-packages (from flask) (1.1.0)\n",
            "Requirement already satisfied: MarkupSafe>=0.23 in /usr/local/lib/python3.7/dist-packages (from Jinja2<3.0,>=2.10.1->flask) (2.0.1)\n"
          ]
        }
      ]
    },
    {
      "cell_type": "code",
      "metadata": {
        "colab": {
          "base_uri": "https://localhost:8080/"
        },
        "id": "lT3QNTm4uyNV",
        "outputId": "035892a2-99c8-4adb-9fa9-dcf05ef9e31e"
      },
      "source": [
        "from flask import Flask\n",
        "from flask import render_template\n",
        "from flask import request\n"
      ],
      "execution_count": 7,
      "outputs": [
        {
          "output_type": "stream",
          "name": "stdout",
          "text": [
            "Collecting gevent\n",
            "  Downloading gevent-21.8.0-cp37-cp37m-manylinux_2_12_x86_64.manylinux2010_x86_64.whl (5.8 MB)\n",
            "\u001b[K     |████████████████████████████████| 5.8 MB 36.1 MB/s \n",
            "\u001b[?25hRequirement already satisfied: setuptools in /usr/local/lib/python3.7/dist-packages (from gevent) (57.4.0)\n",
            "Requirement already satisfied: greenlet<2.0,>=1.1.0 in /usr/local/lib/python3.7/dist-packages (from gevent) (1.1.2)\n",
            "Collecting zope.interface\n",
            "  Downloading zope.interface-5.4.0-cp37-cp37m-manylinux2010_x86_64.whl (251 kB)\n",
            "\u001b[K     |████████████████████████████████| 251 kB 62.2 MB/s \n",
            "\u001b[?25hCollecting zope.event\n",
            "  Downloading zope.event-4.5.0-py2.py3-none-any.whl (6.8 kB)\n",
            "Installing collected packages: zope.interface, zope.event, gevent\n",
            "Successfully installed gevent-21.8.0 zope.event-4.5.0 zope.interface-5.4.0\n"
          ]
        }
      ]
    },
    {
      "cell_type": "code",
      "metadata": {
        "colab": {
          "base_uri": "https://localhost:8080/",
          "height": 590
        },
        "id": "xCpV5ryUwLA-",
        "outputId": "6047ff3e-e4e5-45a2-fcd8-2dece86cec94"
      },
      "source": [
        "app = Flask(__name__)\n",
        "\n",
        "@app.route(\"/\")\n",
        "def hello(): \n",
        "  return \"Hello World\"\n",
        "\n",
        "import portpicker\n",
        "port = portpicker.pick_unused_port()\n",
        "from google.colab import output\n",
        "output.serve_kernel_port_as_window(port)\n",
        "\n",
        "from gevent.pywsgi import WSGIServer\n",
        "host='localhost'\n",
        "app_server = WSGIServer((host, port), app)\n",
        "app_server.serve_forever()"
      ],
      "execution_count": null,
      "outputs": [
        {
          "output_type": "display_data",
          "data": {
            "application/javascript": [
              "(async (port, path, text, element) => {\n",
              "    if (!google.colab.kernel.accessAllowed) {\n",
              "      return;\n",
              "    }\n",
              "    element.appendChild(document.createTextNode(''));\n",
              "    const url = await google.colab.kernel.proxyPort(port);\n",
              "    const anchor = document.createElement('a');\n",
              "    anchor.href = new URL(path, url).toString();\n",
              "    anchor.target = '_blank';\n",
              "    anchor.setAttribute('data-href', url + path);\n",
              "    anchor.textContent = text;\n",
              "    element.appendChild(anchor);\n",
              "  })(20080, \"/\", \"https://localhost:20080/\", window.element)"
            ],
            "text/plain": [
              "<IPython.core.display.Javascript object>"
            ]
          },
          "metadata": {}
        },
        {
          "output_type": "stream",
          "name": "stderr",
          "text": [
            "\n",
            "PYDEV DEBUGGER WARNING:\n",
            "sys.settrace() should not be used when the debugger is being used.\n",
            "This may cause the debugger to stop working correctly.\n",
            "If this is needed, please check: \n",
            "http://pydev.blogspot.com/2007/06/why-cant-pydev-debugger-work-with.html\n",
            "to see how to restore the debug tracing back correctly.\n",
            "Call Location:\n",
            "  File \"/usr/local/lib/python3.7/dist-packages/gevent/threadpool.py\", line 157, in _before_run_task\n",
            "    _sys.settrace(_get_thread_trace())\n",
            "\n",
            "\n",
            "PYDEV DEBUGGER WARNING:\n",
            "sys.settrace() should not be used when the debugger is being used.\n",
            "This may cause the debugger to stop working correctly.\n",
            "If this is needed, please check: \n",
            "http://pydev.blogspot.com/2007/06/why-cant-pydev-debugger-work-with.html\n",
            "to see how to restore the debug tracing back correctly.\n",
            "Call Location:\n",
            "  File \"/usr/local/lib/python3.7/dist-packages/gevent/threadpool.py\", line 162, in _after_run_task\n",
            "    _sys.settrace(None)\n",
            "\n",
            "127.0.0.1 - - [2021-11-24 11:43:58] \"GET / HTTP/1.1\" 200 127 0.000787\n",
            "127.0.0.1 - - [2021-11-24 11:43:59] \"GET /favicon.ico HTTP/1.1\" 404 356 0.001112\n",
            "127.0.0.1 - - [2021-11-24 11:47:06] \"GET / HTTP/1.1\" 200 127 0.000733\n",
            "127.0.0.1 - - [2021-11-24 11:47:07] \"GET /favicon.ico HTTP/1.1\" 404 356 0.000713\n",
            "127.0.0.1 - - [2021-11-24 11:47:21] \"GET / HTTP/1.1\" 200 127 0.002144\n",
            "127.0.0.1 - - [2021-11-24 11:47:23] \"GET /favicon.ico HTTP/1.1\" 404 356 0.000779\n",
            "127.0.0.1 - - [2021-11-24 11:48:19] \"GET / HTTP/1.1\" 200 127 0.000693\n",
            "127.0.0.1 - - [2021-11-24 11:48:20] \"GET /favicon.ico HTTP/1.1\" 404 356 0.000867\n",
            "127.0.0.1 - - [2021-11-24 11:52:54] \"GET / HTTP/1.1\" 200 127 0.000668\n",
            "127.0.0.1 - - [2021-11-24 11:52:55] \"GET /favicon.ico HTTP/1.1\" 404 356 0.000620\n"
          ]
        }
      ]
    }
  ]
}